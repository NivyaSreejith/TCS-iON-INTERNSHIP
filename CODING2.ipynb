{
  "cells": [
    {
      "cell_type": "markdown",
      "metadata": {
        "id": "Vejq8yUWmliW"
      },
      "source": [
        "**Importing necessary libraries**"
      ]
    },
    {
      "cell_type": "code",
      "execution_count": 1,
      "metadata": {
        "id": "Y4uDAPgHEn-s"
      },
      "outputs": [],
      "source": [
        "import pandas as pd\n",
        "import numpy as np\n",
        "import matplotlib.pyplot as plt\n",
        "import seaborn as sns"
      ]
    },
    {
      "cell_type": "markdown",
      "metadata": {
        "id": "93B55l8SQ2Wy"
      },
      "source": [
        "**Importing the dataset**"
      ]
    },
    {
      "cell_type": "code",
      "execution_count": 2,
      "metadata": {
        "id": "KgsN-2EtOPo8"
      },
      "outputs": [],
      "source": [
        "file_id = '1Hj-PUnOmNyy0pcjLrvf8mOM18LV3zPpW'\n",
        "file_url = f'https://drive.google.com/uc?id={file_id}'\n",
        "data = pd.read_csv(file_url)"
      ]
    },
    {
      "cell_type": "markdown",
      "metadata": {
        "id": "bU602vPgRYL3"
      },
      "source": [
        "Displaying Data"
      ]
    },
    {
      "cell_type": "code",
      "execution_count": 3,
      "metadata": {
        "colab": {
          "base_uri": "https://localhost:8080/",
          "height": 423
        },
        "id": "jluEmhyzGiY1",
        "outputId": "7add1aa7-c868-4c68-b29d-623d545e29f6"
      },
      "outputs": [
        {
          "output_type": "execute_result",
          "data": {
            "text/plain": [
              "         NAME GENDER DRUG NAME   AGE             RACE  \\\n",
              "0       Aaban      M   topamax  41.0            White   \n",
              "1       Aaban      M     zocor  53.0  Hispanic, White   \n",
              "2       Aabha      F   tazorac  31.0            White   \n",
              "3       Aabha      F  voltaren  44.0            White   \n",
              "4       Aabid      M  tramadol  24.0            White   \n",
              "...       ...    ...       ...   ...              ...   \n",
              "399995   TRUE      M   lamisil  50.0            White   \n",
              "399996   TRUE      M    klaron  55.0  Hispanic, White   \n",
              "399997   TRUE      M    celexa  57.0            Other   \n",
              "399998   TRUE      F    zoloft  59.0            White   \n",
              "399999   TRUE      M  prilosec  65.0            White   \n",
              "\n",
              "                         SIDE EFFECTS  \n",
              "0                   Mild Side Effects  \n",
              "1       Extremely Severe Side Effects  \n",
              "2                   Mild Side Effects  \n",
              "3                 Severe Side Effects  \n",
              "4                     No Side Effects  \n",
              "...                               ...  \n",
              "399995            Severe Side Effects  \n",
              "399996                No Side Effects  \n",
              "399997            Severe Side Effects  \n",
              "399998                No Side Effects  \n",
              "399999              Mild Side Effects  \n",
              "\n",
              "[400000 rows x 6 columns]"
            ],
            "text/html": [
              "\n",
              "  <div id=\"df-4303b46b-9d6c-4bd0-85f5-b77bfd3a7c96\" class=\"colab-df-container\">\n",
              "    <div>\n",
              "<style scoped>\n",
              "    .dataframe tbody tr th:only-of-type {\n",
              "        vertical-align: middle;\n",
              "    }\n",
              "\n",
              "    .dataframe tbody tr th {\n",
              "        vertical-align: top;\n",
              "    }\n",
              "\n",
              "    .dataframe thead th {\n",
              "        text-align: right;\n",
              "    }\n",
              "</style>\n",
              "<table border=\"1\" class=\"dataframe\">\n",
              "  <thead>\n",
              "    <tr style=\"text-align: right;\">\n",
              "      <th></th>\n",
              "      <th>NAME</th>\n",
              "      <th>GENDER</th>\n",
              "      <th>DRUG NAME</th>\n",
              "      <th>AGE</th>\n",
              "      <th>RACE</th>\n",
              "      <th>SIDE EFFECTS</th>\n",
              "    </tr>\n",
              "  </thead>\n",
              "  <tbody>\n",
              "    <tr>\n",
              "      <th>0</th>\n",
              "      <td>Aaban</td>\n",
              "      <td>M</td>\n",
              "      <td>topamax</td>\n",
              "      <td>41.0</td>\n",
              "      <td>White</td>\n",
              "      <td>Mild Side Effects</td>\n",
              "    </tr>\n",
              "    <tr>\n",
              "      <th>1</th>\n",
              "      <td>Aaban</td>\n",
              "      <td>M</td>\n",
              "      <td>zocor</td>\n",
              "      <td>53.0</td>\n",
              "      <td>Hispanic, White</td>\n",
              "      <td>Extremely Severe Side Effects</td>\n",
              "    </tr>\n",
              "    <tr>\n",
              "      <th>2</th>\n",
              "      <td>Aabha</td>\n",
              "      <td>F</td>\n",
              "      <td>tazorac</td>\n",
              "      <td>31.0</td>\n",
              "      <td>White</td>\n",
              "      <td>Mild Side Effects</td>\n",
              "    </tr>\n",
              "    <tr>\n",
              "      <th>3</th>\n",
              "      <td>Aabha</td>\n",
              "      <td>F</td>\n",
              "      <td>voltaren</td>\n",
              "      <td>44.0</td>\n",
              "      <td>White</td>\n",
              "      <td>Severe Side Effects</td>\n",
              "    </tr>\n",
              "    <tr>\n",
              "      <th>4</th>\n",
              "      <td>Aabid</td>\n",
              "      <td>M</td>\n",
              "      <td>tramadol</td>\n",
              "      <td>24.0</td>\n",
              "      <td>White</td>\n",
              "      <td>No Side Effects</td>\n",
              "    </tr>\n",
              "    <tr>\n",
              "      <th>...</th>\n",
              "      <td>...</td>\n",
              "      <td>...</td>\n",
              "      <td>...</td>\n",
              "      <td>...</td>\n",
              "      <td>...</td>\n",
              "      <td>...</td>\n",
              "    </tr>\n",
              "    <tr>\n",
              "      <th>399995</th>\n",
              "      <td>TRUE</td>\n",
              "      <td>M</td>\n",
              "      <td>lamisil</td>\n",
              "      <td>50.0</td>\n",
              "      <td>White</td>\n",
              "      <td>Severe Side Effects</td>\n",
              "    </tr>\n",
              "    <tr>\n",
              "      <th>399996</th>\n",
              "      <td>TRUE</td>\n",
              "      <td>M</td>\n",
              "      <td>klaron</td>\n",
              "      <td>55.0</td>\n",
              "      <td>Hispanic, White</td>\n",
              "      <td>No Side Effects</td>\n",
              "    </tr>\n",
              "    <tr>\n",
              "      <th>399997</th>\n",
              "      <td>TRUE</td>\n",
              "      <td>M</td>\n",
              "      <td>celexa</td>\n",
              "      <td>57.0</td>\n",
              "      <td>Other</td>\n",
              "      <td>Severe Side Effects</td>\n",
              "    </tr>\n",
              "    <tr>\n",
              "      <th>399998</th>\n",
              "      <td>TRUE</td>\n",
              "      <td>F</td>\n",
              "      <td>zoloft</td>\n",
              "      <td>59.0</td>\n",
              "      <td>White</td>\n",
              "      <td>No Side Effects</td>\n",
              "    </tr>\n",
              "    <tr>\n",
              "      <th>399999</th>\n",
              "      <td>TRUE</td>\n",
              "      <td>M</td>\n",
              "      <td>prilosec</td>\n",
              "      <td>65.0</td>\n",
              "      <td>White</td>\n",
              "      <td>Mild Side Effects</td>\n",
              "    </tr>\n",
              "  </tbody>\n",
              "</table>\n",
              "<p>400000 rows × 6 columns</p>\n",
              "</div>\n",
              "    <div class=\"colab-df-buttons\">\n",
              "\n",
              "  <div class=\"colab-df-container\">\n",
              "    <button class=\"colab-df-convert\" onclick=\"convertToInteractive('df-4303b46b-9d6c-4bd0-85f5-b77bfd3a7c96')\"\n",
              "            title=\"Convert this dataframe to an interactive table.\"\n",
              "            style=\"display:none;\">\n",
              "\n",
              "  <svg xmlns=\"http://www.w3.org/2000/svg\" height=\"24px\" viewBox=\"0 -960 960 960\">\n",
              "    <path d=\"M120-120v-720h720v720H120Zm60-500h600v-160H180v160Zm220 220h160v-160H400v160Zm0 220h160v-160H400v160ZM180-400h160v-160H180v160Zm440 0h160v-160H620v160ZM180-180h160v-160H180v160Zm440 0h160v-160H620v160Z\"/>\n",
              "  </svg>\n",
              "    </button>\n",
              "\n",
              "  <style>\n",
              "    .colab-df-container {\n",
              "      display:flex;\n",
              "      gap: 12px;\n",
              "    }\n",
              "\n",
              "    .colab-df-convert {\n",
              "      background-color: #E8F0FE;\n",
              "      border: none;\n",
              "      border-radius: 50%;\n",
              "      cursor: pointer;\n",
              "      display: none;\n",
              "      fill: #1967D2;\n",
              "      height: 32px;\n",
              "      padding: 0 0 0 0;\n",
              "      width: 32px;\n",
              "    }\n",
              "\n",
              "    .colab-df-convert:hover {\n",
              "      background-color: #E2EBFA;\n",
              "      box-shadow: 0px 1px 2px rgba(60, 64, 67, 0.3), 0px 1px 3px 1px rgba(60, 64, 67, 0.15);\n",
              "      fill: #174EA6;\n",
              "    }\n",
              "\n",
              "    .colab-df-buttons div {\n",
              "      margin-bottom: 4px;\n",
              "    }\n",
              "\n",
              "    [theme=dark] .colab-df-convert {\n",
              "      background-color: #3B4455;\n",
              "      fill: #D2E3FC;\n",
              "    }\n",
              "\n",
              "    [theme=dark] .colab-df-convert:hover {\n",
              "      background-color: #434B5C;\n",
              "      box-shadow: 0px 1px 3px 1px rgba(0, 0, 0, 0.15);\n",
              "      filter: drop-shadow(0px 1px 2px rgba(0, 0, 0, 0.3));\n",
              "      fill: #FFFFFF;\n",
              "    }\n",
              "  </style>\n",
              "\n",
              "    <script>\n",
              "      const buttonEl =\n",
              "        document.querySelector('#df-4303b46b-9d6c-4bd0-85f5-b77bfd3a7c96 button.colab-df-convert');\n",
              "      buttonEl.style.display =\n",
              "        google.colab.kernel.accessAllowed ? 'block' : 'none';\n",
              "\n",
              "      async function convertToInteractive(key) {\n",
              "        const element = document.querySelector('#df-4303b46b-9d6c-4bd0-85f5-b77bfd3a7c96');\n",
              "        const dataTable =\n",
              "          await google.colab.kernel.invokeFunction('convertToInteractive',\n",
              "                                                    [key], {});\n",
              "        if (!dataTable) return;\n",
              "\n",
              "        const docLinkHtml = 'Like what you see? Visit the ' +\n",
              "          '<a target=\"_blank\" href=https://colab.research.google.com/notebooks/data_table.ipynb>data table notebook</a>'\n",
              "          + ' to learn more about interactive tables.';\n",
              "        element.innerHTML = '';\n",
              "        dataTable['output_type'] = 'display_data';\n",
              "        await google.colab.output.renderOutput(dataTable, element);\n",
              "        const docLink = document.createElement('div');\n",
              "        docLink.innerHTML = docLinkHtml;\n",
              "        element.appendChild(docLink);\n",
              "      }\n",
              "    </script>\n",
              "  </div>\n",
              "\n",
              "\n",
              "<div id=\"df-f5cc6074-5f07-42ca-b421-271337eadf5a\">\n",
              "  <button class=\"colab-df-quickchart\" onclick=\"quickchart('df-f5cc6074-5f07-42ca-b421-271337eadf5a')\"\n",
              "            title=\"Suggest charts.\"\n",
              "            style=\"display:none;\">\n",
              "\n",
              "<svg xmlns=\"http://www.w3.org/2000/svg\" height=\"24px\"viewBox=\"0 0 24 24\"\n",
              "     width=\"24px\">\n",
              "    <g>\n",
              "        <path d=\"M19 3H5c-1.1 0-2 .9-2 2v14c0 1.1.9 2 2 2h14c1.1 0 2-.9 2-2V5c0-1.1-.9-2-2-2zM9 17H7v-7h2v7zm4 0h-2V7h2v10zm4 0h-2v-4h2v4z\"/>\n",
              "    </g>\n",
              "</svg>\n",
              "  </button>\n",
              "\n",
              "<style>\n",
              "  .colab-df-quickchart {\n",
              "      --bg-color: #E8F0FE;\n",
              "      --fill-color: #1967D2;\n",
              "      --hover-bg-color: #E2EBFA;\n",
              "      --hover-fill-color: #174EA6;\n",
              "      --disabled-fill-color: #AAA;\n",
              "      --disabled-bg-color: #DDD;\n",
              "  }\n",
              "\n",
              "  [theme=dark] .colab-df-quickchart {\n",
              "      --bg-color: #3B4455;\n",
              "      --fill-color: #D2E3FC;\n",
              "      --hover-bg-color: #434B5C;\n",
              "      --hover-fill-color: #FFFFFF;\n",
              "      --disabled-bg-color: #3B4455;\n",
              "      --disabled-fill-color: #666;\n",
              "  }\n",
              "\n",
              "  .colab-df-quickchart {\n",
              "    background-color: var(--bg-color);\n",
              "    border: none;\n",
              "    border-radius: 50%;\n",
              "    cursor: pointer;\n",
              "    display: none;\n",
              "    fill: var(--fill-color);\n",
              "    height: 32px;\n",
              "    padding: 0;\n",
              "    width: 32px;\n",
              "  }\n",
              "\n",
              "  .colab-df-quickchart:hover {\n",
              "    background-color: var(--hover-bg-color);\n",
              "    box-shadow: 0 1px 2px rgba(60, 64, 67, 0.3), 0 1px 3px 1px rgba(60, 64, 67, 0.15);\n",
              "    fill: var(--button-hover-fill-color);\n",
              "  }\n",
              "\n",
              "  .colab-df-quickchart-complete:disabled,\n",
              "  .colab-df-quickchart-complete:disabled:hover {\n",
              "    background-color: var(--disabled-bg-color);\n",
              "    fill: var(--disabled-fill-color);\n",
              "    box-shadow: none;\n",
              "  }\n",
              "\n",
              "  .colab-df-spinner {\n",
              "    border: 2px solid var(--fill-color);\n",
              "    border-color: transparent;\n",
              "    border-bottom-color: var(--fill-color);\n",
              "    animation:\n",
              "      spin 1s steps(1) infinite;\n",
              "  }\n",
              "\n",
              "  @keyframes spin {\n",
              "    0% {\n",
              "      border-color: transparent;\n",
              "      border-bottom-color: var(--fill-color);\n",
              "      border-left-color: var(--fill-color);\n",
              "    }\n",
              "    20% {\n",
              "      border-color: transparent;\n",
              "      border-left-color: var(--fill-color);\n",
              "      border-top-color: var(--fill-color);\n",
              "    }\n",
              "    30% {\n",
              "      border-color: transparent;\n",
              "      border-left-color: var(--fill-color);\n",
              "      border-top-color: var(--fill-color);\n",
              "      border-right-color: var(--fill-color);\n",
              "    }\n",
              "    40% {\n",
              "      border-color: transparent;\n",
              "      border-right-color: var(--fill-color);\n",
              "      border-top-color: var(--fill-color);\n",
              "    }\n",
              "    60% {\n",
              "      border-color: transparent;\n",
              "      border-right-color: var(--fill-color);\n",
              "    }\n",
              "    80% {\n",
              "      border-color: transparent;\n",
              "      border-right-color: var(--fill-color);\n",
              "      border-bottom-color: var(--fill-color);\n",
              "    }\n",
              "    90% {\n",
              "      border-color: transparent;\n",
              "      border-bottom-color: var(--fill-color);\n",
              "    }\n",
              "  }\n",
              "</style>\n",
              "\n",
              "  <script>\n",
              "    async function quickchart(key) {\n",
              "      const quickchartButtonEl =\n",
              "        document.querySelector('#' + key + ' button');\n",
              "      quickchartButtonEl.disabled = true;  // To prevent multiple clicks.\n",
              "      quickchartButtonEl.classList.add('colab-df-spinner');\n",
              "      try {\n",
              "        const charts = await google.colab.kernel.invokeFunction(\n",
              "            'suggestCharts', [key], {});\n",
              "      } catch (error) {\n",
              "        console.error('Error during call to suggestCharts:', error);\n",
              "      }\n",
              "      quickchartButtonEl.classList.remove('colab-df-spinner');\n",
              "      quickchartButtonEl.classList.add('colab-df-quickchart-complete');\n",
              "    }\n",
              "    (() => {\n",
              "      let quickchartButtonEl =\n",
              "        document.querySelector('#df-f5cc6074-5f07-42ca-b421-271337eadf5a button');\n",
              "      quickchartButtonEl.style.display =\n",
              "        google.colab.kernel.accessAllowed ? 'block' : 'none';\n",
              "    })();\n",
              "  </script>\n",
              "</div>\n",
              "    </div>\n",
              "  </div>\n"
            ]
          },
          "metadata": {},
          "execution_count": 3
        }
      ],
      "source": [
        "data"
      ]
    },
    {
      "cell_type": "markdown",
      "metadata": {
        "id": "Wf44PtFIR2VZ"
      },
      "source": [
        "Duplicate Values"
      ]
    },
    {
      "cell_type": "markdown",
      "metadata": {
        "id": "CIpL0Hm6Rz0r"
      },
      "source": []
    },
    {
      "cell_type": "code",
      "execution_count": 4,
      "metadata": {
        "colab": {
          "base_uri": "https://localhost:8080/"
        },
        "id": "yIdW3rZIG3X8",
        "outputId": "01616d29-7526-444d-a8bd-ecf99c0f6268"
      },
      "outputs": [
        {
          "output_type": "execute_result",
          "data": {
            "text/plain": [
              "False    398208\n",
              "True       1792\n",
              "dtype: int64"
            ]
          },
          "metadata": {},
          "execution_count": 4
        }
      ],
      "source": [
        "data.duplicated().value_counts()"
      ]
    },
    {
      "cell_type": "markdown",
      "metadata": {
        "id": "g_ur5ms8SCwL"
      },
      "source": [
        "Percentage of duplicate values"
      ]
    },
    {
      "cell_type": "code",
      "execution_count": 5,
      "metadata": {
        "colab": {
          "base_uri": "https://localhost:8080/"
        },
        "id": "j5iwEyU4k1AR",
        "outputId": "e1542570-e934-409f-b382-81dee13a65eb"
      },
      "outputs": [
        {
          "output_type": "execute_result",
          "data": {
            "text/plain": [
              "False    0.99552\n",
              "True     0.00448\n",
              "dtype: float64"
            ]
          },
          "metadata": {},
          "execution_count": 5
        }
      ],
      "source": [
        "data.duplicated().value_counts(normalize=True)"
      ]
    },
    {
      "cell_type": "code",
      "source": [
        "# Use the drop_duplicates method to remove duplicate rows as it is less than 1%\n",
        "data = data.drop_duplicates()"
      ],
      "metadata": {
        "id": "bgRUtsLUBovv"
      },
      "execution_count": 6,
      "outputs": []
    },
    {
      "cell_type": "code",
      "source": [
        "#NAME"
      ],
      "metadata": {
        "id": "ABNMDYTzBS_L"
      },
      "execution_count": 7,
      "outputs": []
    },
    {
      "cell_type": "code",
      "source": [
        "#Drop the column \"Name\" which doesn't give any contribution for the modelling\n",
        "data = data.drop(['NAME'], axis = 1)"
      ],
      "metadata": {
        "id": "VKAgGJHQBUey"
      },
      "execution_count": 8,
      "outputs": []
    },
    {
      "cell_type": "code",
      "source": [
        "data"
      ],
      "metadata": {
        "colab": {
          "base_uri": "https://localhost:8080/",
          "height": 423
        },
        "id": "stuEdll8BYJc",
        "outputId": "df4b0b5b-3443-4c08-9837-1ecf6312f70f"
      },
      "execution_count": 9,
      "outputs": [
        {
          "output_type": "execute_result",
          "data": {
            "text/plain": [
              "       GENDER DRUG NAME   AGE             RACE                   SIDE EFFECTS\n",
              "0           M   topamax  41.0            White              Mild Side Effects\n",
              "1           M     zocor  53.0  Hispanic, White  Extremely Severe Side Effects\n",
              "2           F   tazorac  31.0            White              Mild Side Effects\n",
              "3           F  voltaren  44.0            White            Severe Side Effects\n",
              "4           M  tramadol  24.0            White                No Side Effects\n",
              "...       ...       ...   ...              ...                            ...\n",
              "399995      M   lamisil  50.0            White            Severe Side Effects\n",
              "399996      M    klaron  55.0  Hispanic, White                No Side Effects\n",
              "399997      M    celexa  57.0            Other            Severe Side Effects\n",
              "399998      F    zoloft  59.0            White                No Side Effects\n",
              "399999      M  prilosec  65.0            White              Mild Side Effects\n",
              "\n",
              "[398208 rows x 5 columns]"
            ],
            "text/html": [
              "\n",
              "  <div id=\"df-3ea1c349-7c1b-4b9c-9a16-f4c306135c36\" class=\"colab-df-container\">\n",
              "    <div>\n",
              "<style scoped>\n",
              "    .dataframe tbody tr th:only-of-type {\n",
              "        vertical-align: middle;\n",
              "    }\n",
              "\n",
              "    .dataframe tbody tr th {\n",
              "        vertical-align: top;\n",
              "    }\n",
              "\n",
              "    .dataframe thead th {\n",
              "        text-align: right;\n",
              "    }\n",
              "</style>\n",
              "<table border=\"1\" class=\"dataframe\">\n",
              "  <thead>\n",
              "    <tr style=\"text-align: right;\">\n",
              "      <th></th>\n",
              "      <th>GENDER</th>\n",
              "      <th>DRUG NAME</th>\n",
              "      <th>AGE</th>\n",
              "      <th>RACE</th>\n",
              "      <th>SIDE EFFECTS</th>\n",
              "    </tr>\n",
              "  </thead>\n",
              "  <tbody>\n",
              "    <tr>\n",
              "      <th>0</th>\n",
              "      <td>M</td>\n",
              "      <td>topamax</td>\n",
              "      <td>41.0</td>\n",
              "      <td>White</td>\n",
              "      <td>Mild Side Effects</td>\n",
              "    </tr>\n",
              "    <tr>\n",
              "      <th>1</th>\n",
              "      <td>M</td>\n",
              "      <td>zocor</td>\n",
              "      <td>53.0</td>\n",
              "      <td>Hispanic, White</td>\n",
              "      <td>Extremely Severe Side Effects</td>\n",
              "    </tr>\n",
              "    <tr>\n",
              "      <th>2</th>\n",
              "      <td>F</td>\n",
              "      <td>tazorac</td>\n",
              "      <td>31.0</td>\n",
              "      <td>White</td>\n",
              "      <td>Mild Side Effects</td>\n",
              "    </tr>\n",
              "    <tr>\n",
              "      <th>3</th>\n",
              "      <td>F</td>\n",
              "      <td>voltaren</td>\n",
              "      <td>44.0</td>\n",
              "      <td>White</td>\n",
              "      <td>Severe Side Effects</td>\n",
              "    </tr>\n",
              "    <tr>\n",
              "      <th>4</th>\n",
              "      <td>M</td>\n",
              "      <td>tramadol</td>\n",
              "      <td>24.0</td>\n",
              "      <td>White</td>\n",
              "      <td>No Side Effects</td>\n",
              "    </tr>\n",
              "    <tr>\n",
              "      <th>...</th>\n",
              "      <td>...</td>\n",
              "      <td>...</td>\n",
              "      <td>...</td>\n",
              "      <td>...</td>\n",
              "      <td>...</td>\n",
              "    </tr>\n",
              "    <tr>\n",
              "      <th>399995</th>\n",
              "      <td>M</td>\n",
              "      <td>lamisil</td>\n",
              "      <td>50.0</td>\n",
              "      <td>White</td>\n",
              "      <td>Severe Side Effects</td>\n",
              "    </tr>\n",
              "    <tr>\n",
              "      <th>399996</th>\n",
              "      <td>M</td>\n",
              "      <td>klaron</td>\n",
              "      <td>55.0</td>\n",
              "      <td>Hispanic, White</td>\n",
              "      <td>No Side Effects</td>\n",
              "    </tr>\n",
              "    <tr>\n",
              "      <th>399997</th>\n",
              "      <td>M</td>\n",
              "      <td>celexa</td>\n",
              "      <td>57.0</td>\n",
              "      <td>Other</td>\n",
              "      <td>Severe Side Effects</td>\n",
              "    </tr>\n",
              "    <tr>\n",
              "      <th>399998</th>\n",
              "      <td>F</td>\n",
              "      <td>zoloft</td>\n",
              "      <td>59.0</td>\n",
              "      <td>White</td>\n",
              "      <td>No Side Effects</td>\n",
              "    </tr>\n",
              "    <tr>\n",
              "      <th>399999</th>\n",
              "      <td>M</td>\n",
              "      <td>prilosec</td>\n",
              "      <td>65.0</td>\n",
              "      <td>White</td>\n",
              "      <td>Mild Side Effects</td>\n",
              "    </tr>\n",
              "  </tbody>\n",
              "</table>\n",
              "<p>398208 rows × 5 columns</p>\n",
              "</div>\n",
              "    <div class=\"colab-df-buttons\">\n",
              "\n",
              "  <div class=\"colab-df-container\">\n",
              "    <button class=\"colab-df-convert\" onclick=\"convertToInteractive('df-3ea1c349-7c1b-4b9c-9a16-f4c306135c36')\"\n",
              "            title=\"Convert this dataframe to an interactive table.\"\n",
              "            style=\"display:none;\">\n",
              "\n",
              "  <svg xmlns=\"http://www.w3.org/2000/svg\" height=\"24px\" viewBox=\"0 -960 960 960\">\n",
              "    <path d=\"M120-120v-720h720v720H120Zm60-500h600v-160H180v160Zm220 220h160v-160H400v160Zm0 220h160v-160H400v160ZM180-400h160v-160H180v160Zm440 0h160v-160H620v160ZM180-180h160v-160H180v160Zm440 0h160v-160H620v160Z\"/>\n",
              "  </svg>\n",
              "    </button>\n",
              "\n",
              "  <style>\n",
              "    .colab-df-container {\n",
              "      display:flex;\n",
              "      gap: 12px;\n",
              "    }\n",
              "\n",
              "    .colab-df-convert {\n",
              "      background-color: #E8F0FE;\n",
              "      border: none;\n",
              "      border-radius: 50%;\n",
              "      cursor: pointer;\n",
              "      display: none;\n",
              "      fill: #1967D2;\n",
              "      height: 32px;\n",
              "      padding: 0 0 0 0;\n",
              "      width: 32px;\n",
              "    }\n",
              "\n",
              "    .colab-df-convert:hover {\n",
              "      background-color: #E2EBFA;\n",
              "      box-shadow: 0px 1px 2px rgba(60, 64, 67, 0.3), 0px 1px 3px 1px rgba(60, 64, 67, 0.15);\n",
              "      fill: #174EA6;\n",
              "    }\n",
              "\n",
              "    .colab-df-buttons div {\n",
              "      margin-bottom: 4px;\n",
              "    }\n",
              "\n",
              "    [theme=dark] .colab-df-convert {\n",
              "      background-color: #3B4455;\n",
              "      fill: #D2E3FC;\n",
              "    }\n",
              "\n",
              "    [theme=dark] .colab-df-convert:hover {\n",
              "      background-color: #434B5C;\n",
              "      box-shadow: 0px 1px 3px 1px rgba(0, 0, 0, 0.15);\n",
              "      filter: drop-shadow(0px 1px 2px rgba(0, 0, 0, 0.3));\n",
              "      fill: #FFFFFF;\n",
              "    }\n",
              "  </style>\n",
              "\n",
              "    <script>\n",
              "      const buttonEl =\n",
              "        document.querySelector('#df-3ea1c349-7c1b-4b9c-9a16-f4c306135c36 button.colab-df-convert');\n",
              "      buttonEl.style.display =\n",
              "        google.colab.kernel.accessAllowed ? 'block' : 'none';\n",
              "\n",
              "      async function convertToInteractive(key) {\n",
              "        const element = document.querySelector('#df-3ea1c349-7c1b-4b9c-9a16-f4c306135c36');\n",
              "        const dataTable =\n",
              "          await google.colab.kernel.invokeFunction('convertToInteractive',\n",
              "                                                    [key], {});\n",
              "        if (!dataTable) return;\n",
              "\n",
              "        const docLinkHtml = 'Like what you see? Visit the ' +\n",
              "          '<a target=\"_blank\" href=https://colab.research.google.com/notebooks/data_table.ipynb>data table notebook</a>'\n",
              "          + ' to learn more about interactive tables.';\n",
              "        element.innerHTML = '';\n",
              "        dataTable['output_type'] = 'display_data';\n",
              "        await google.colab.output.renderOutput(dataTable, element);\n",
              "        const docLink = document.createElement('div');\n",
              "        docLink.innerHTML = docLinkHtml;\n",
              "        element.appendChild(docLink);\n",
              "      }\n",
              "    </script>\n",
              "  </div>\n",
              "\n",
              "\n",
              "<div id=\"df-b65d861e-afed-4f05-9ada-51d741b05a5c\">\n",
              "  <button class=\"colab-df-quickchart\" onclick=\"quickchart('df-b65d861e-afed-4f05-9ada-51d741b05a5c')\"\n",
              "            title=\"Suggest charts.\"\n",
              "            style=\"display:none;\">\n",
              "\n",
              "<svg xmlns=\"http://www.w3.org/2000/svg\" height=\"24px\"viewBox=\"0 0 24 24\"\n",
              "     width=\"24px\">\n",
              "    <g>\n",
              "        <path d=\"M19 3H5c-1.1 0-2 .9-2 2v14c0 1.1.9 2 2 2h14c1.1 0 2-.9 2-2V5c0-1.1-.9-2-2-2zM9 17H7v-7h2v7zm4 0h-2V7h2v10zm4 0h-2v-4h2v4z\"/>\n",
              "    </g>\n",
              "</svg>\n",
              "  </button>\n",
              "\n",
              "<style>\n",
              "  .colab-df-quickchart {\n",
              "      --bg-color: #E8F0FE;\n",
              "      --fill-color: #1967D2;\n",
              "      --hover-bg-color: #E2EBFA;\n",
              "      --hover-fill-color: #174EA6;\n",
              "      --disabled-fill-color: #AAA;\n",
              "      --disabled-bg-color: #DDD;\n",
              "  }\n",
              "\n",
              "  [theme=dark] .colab-df-quickchart {\n",
              "      --bg-color: #3B4455;\n",
              "      --fill-color: #D2E3FC;\n",
              "      --hover-bg-color: #434B5C;\n",
              "      --hover-fill-color: #FFFFFF;\n",
              "      --disabled-bg-color: #3B4455;\n",
              "      --disabled-fill-color: #666;\n",
              "  }\n",
              "\n",
              "  .colab-df-quickchart {\n",
              "    background-color: var(--bg-color);\n",
              "    border: none;\n",
              "    border-radius: 50%;\n",
              "    cursor: pointer;\n",
              "    display: none;\n",
              "    fill: var(--fill-color);\n",
              "    height: 32px;\n",
              "    padding: 0;\n",
              "    width: 32px;\n",
              "  }\n",
              "\n",
              "  .colab-df-quickchart:hover {\n",
              "    background-color: var(--hover-bg-color);\n",
              "    box-shadow: 0 1px 2px rgba(60, 64, 67, 0.3), 0 1px 3px 1px rgba(60, 64, 67, 0.15);\n",
              "    fill: var(--button-hover-fill-color);\n",
              "  }\n",
              "\n",
              "  .colab-df-quickchart-complete:disabled,\n",
              "  .colab-df-quickchart-complete:disabled:hover {\n",
              "    background-color: var(--disabled-bg-color);\n",
              "    fill: var(--disabled-fill-color);\n",
              "    box-shadow: none;\n",
              "  }\n",
              "\n",
              "  .colab-df-spinner {\n",
              "    border: 2px solid var(--fill-color);\n",
              "    border-color: transparent;\n",
              "    border-bottom-color: var(--fill-color);\n",
              "    animation:\n",
              "      spin 1s steps(1) infinite;\n",
              "  }\n",
              "\n",
              "  @keyframes spin {\n",
              "    0% {\n",
              "      border-color: transparent;\n",
              "      border-bottom-color: var(--fill-color);\n",
              "      border-left-color: var(--fill-color);\n",
              "    }\n",
              "    20% {\n",
              "      border-color: transparent;\n",
              "      border-left-color: var(--fill-color);\n",
              "      border-top-color: var(--fill-color);\n",
              "    }\n",
              "    30% {\n",
              "      border-color: transparent;\n",
              "      border-left-color: var(--fill-color);\n",
              "      border-top-color: var(--fill-color);\n",
              "      border-right-color: var(--fill-color);\n",
              "    }\n",
              "    40% {\n",
              "      border-color: transparent;\n",
              "      border-right-color: var(--fill-color);\n",
              "      border-top-color: var(--fill-color);\n",
              "    }\n",
              "    60% {\n",
              "      border-color: transparent;\n",
              "      border-right-color: var(--fill-color);\n",
              "    }\n",
              "    80% {\n",
              "      border-color: transparent;\n",
              "      border-right-color: var(--fill-color);\n",
              "      border-bottom-color: var(--fill-color);\n",
              "    }\n",
              "    90% {\n",
              "      border-color: transparent;\n",
              "      border-bottom-color: var(--fill-color);\n",
              "    }\n",
              "  }\n",
              "</style>\n",
              "\n",
              "  <script>\n",
              "    async function quickchart(key) {\n",
              "      const quickchartButtonEl =\n",
              "        document.querySelector('#' + key + ' button');\n",
              "      quickchartButtonEl.disabled = true;  // To prevent multiple clicks.\n",
              "      quickchartButtonEl.classList.add('colab-df-spinner');\n",
              "      try {\n",
              "        const charts = await google.colab.kernel.invokeFunction(\n",
              "            'suggestCharts', [key], {});\n",
              "      } catch (error) {\n",
              "        console.error('Error during call to suggestCharts:', error);\n",
              "      }\n",
              "      quickchartButtonEl.classList.remove('colab-df-spinner');\n",
              "      quickchartButtonEl.classList.add('colab-df-quickchart-complete');\n",
              "    }\n",
              "    (() => {\n",
              "      let quickchartButtonEl =\n",
              "        document.querySelector('#df-b65d861e-afed-4f05-9ada-51d741b05a5c button');\n",
              "      quickchartButtonEl.style.display =\n",
              "        google.colab.kernel.accessAllowed ? 'block' : 'none';\n",
              "    })();\n",
              "  </script>\n",
              "</div>\n",
              "    </div>\n",
              "  </div>\n"
            ]
          },
          "metadata": {},
          "execution_count": 9
        }
      ]
    },
    {
      "cell_type": "markdown",
      "metadata": {
        "id": "RHtd6doiEUld"
      },
      "source": [
        "# DATA PREPROCESSING"
      ]
    },
    {
      "cell_type": "markdown",
      "metadata": {
        "id": "JWQABJ2Sk1BK"
      },
      "source": [
        "# Filling Missing Values"
      ]
    },
    {
      "cell_type": "code",
      "execution_count": 10,
      "metadata": {
        "colab": {
          "base_uri": "https://localhost:8080/"
        },
        "id": "3JJhA86XElox",
        "outputId": "bbac879e-1533-4991-ad84-9bbef128b108"
      },
      "outputs": [
        {
          "output_type": "execute_result",
          "data": {
            "text/plain": [
              "GENDER           0\n",
              "DRUG NAME        0\n",
              "AGE             20\n",
              "RACE             0\n",
              "SIDE EFFECTS     0\n",
              "dtype: int64"
            ]
          },
          "metadata": {},
          "execution_count": 10
        }
      ],
      "source": [
        "data.isna().sum()"
      ]
    },
    {
      "cell_type": "code",
      "execution_count": 11,
      "metadata": {
        "colab": {
          "base_uri": "https://localhost:8080/"
        },
        "id": "Jfx231muk1BK",
        "outputId": "cadbd3af-bad1-4544-d973-2b81293a0fda"
      },
      "outputs": [
        {
          "output_type": "stream",
          "name": "stdout",
          "text": [
            "Percentage of missing values in each column:\n",
            "GENDER          0.000000\n",
            "DRUG NAME       0.000000\n",
            "AGE             0.005023\n",
            "RACE            0.000000\n",
            "SIDE EFFECTS    0.000000\n",
            "dtype: float64\n"
          ]
        }
      ],
      "source": [
        "print(\"Percentage of missing values in each column:\")\n",
        "print(100 * data.isnull().sum() / len(data))     #dividing the count of missing values by the total number of rows and then multiplying by 100."
      ]
    },
    {
      "cell_type": "code",
      "execution_count": 12,
      "metadata": {
        "colab": {
          "base_uri": "https://localhost:8080/"
        },
        "id": "qrSN4smBk1BK",
        "outputId": "76ce4de8-8b0f-4cf1-830e-15cfcfa76751"
      },
      "outputs": [
        {
          "output_type": "execute_result",
          "data": {
            "text/plain": [
              "41.0"
            ]
          },
          "metadata": {},
          "execution_count": 12
        }
      ],
      "source": [
        "data['AGE'].median()# Filling it with median as the histogram shows skewed distribution."
      ]
    },
    {
      "cell_type": "code",
      "execution_count": 13,
      "metadata": {
        "id": "TiEeHiTMk1BL"
      },
      "outputs": [],
      "source": [
        "data['AGE']  = data['AGE'].fillna(data['AGE'].median())"
      ]
    },
    {
      "cell_type": "code",
      "execution_count": 14,
      "metadata": {
        "colab": {
          "base_uri": "https://localhost:8080/"
        },
        "id": "uQncQ-tmk1BL",
        "outputId": "53b5a95d-42b5-4f07-f882-f937d80b3f1c"
      },
      "outputs": [
        {
          "output_type": "execute_result",
          "data": {
            "text/plain": [
              "GENDER          0\n",
              "DRUG NAME       0\n",
              "AGE             0\n",
              "RACE            0\n",
              "SIDE EFFECTS    0\n",
              "dtype: int64"
            ]
          },
          "metadata": {},
          "execution_count": 14
        }
      ],
      "source": [
        "data.isna().sum()"
      ]
    },
    {
      "cell_type": "markdown",
      "metadata": {
        "id": "R3ySirRwk1BL"
      },
      "source": [
        "# Outliers"
      ]
    },
    {
      "cell_type": "code",
      "execution_count": 15,
      "metadata": {
        "colab": {
          "base_uri": "https://localhost:8080/"
        },
        "id": "2ZDAVoDek1BL",
        "outputId": "bf72df9e-8b1e-4ee4-bf25-d48264b12c74"
      },
      "outputs": [
        {
          "output_type": "execute_result",
          "data": {
            "text/plain": [
              "GENDER           object\n",
              "DRUG NAME        object\n",
              "AGE             float64\n",
              "RACE             object\n",
              "SIDE EFFECTS     object\n",
              "dtype: object"
            ]
          },
          "metadata": {},
          "execution_count": 15
        }
      ],
      "source": [
        "data.dtypes"
      ]
    },
    {
      "cell_type": "code",
      "execution_count": 16,
      "metadata": {
        "colab": {
          "base_uri": "https://localhost:8080/",
          "height": 469
        },
        "id": "cynXyYuxk1BL",
        "outputId": "b96c0141-16b8-462d-c811-7c1296c8e670"
      },
      "outputs": [
        {
          "output_type": "execute_result",
          "data": {
            "text/plain": [
              "Text(0.5, 1.0, 'Boxplot for age')"
            ]
          },
          "metadata": {},
          "execution_count": 16
        },
        {
          "output_type": "display_data",
          "data": {
            "text/plain": [
              "<Figure size 640x480 with 1 Axes>"
            ],
            "image/png": "[encoded data removed]"
          },
          "metadata": {}
        }
      ],
      "source": [
        "plt.boxplot(data['AGE'])\n",
        "plt.title('Boxplot for age')"
      ]
    },
    {
      "cell_type": "code",
      "execution_count": 17,
      "metadata": {
        "id": "-_rTchcqk1BM"
      },
      "outputs": [],
      "source": [
        "q1 = np.percentile(data['AGE'], 25)\n",
        "q2 = np.percentile(data['AGE'], 50)\n",
        "q3 = np.percentile(data['AGE'], 75)\n",
        "iqr=q3-q1\n",
        "low_limit = q1 - 1.5*iqr\n",
        "upr_limit = q3 + 1.5*iqr\n",
        "low_limit\n",
        "upr_limit\n",
        "outlier=[]\n",
        "for x in data['AGE']:\n",
        "    if x>upr_limit or x<low_limit:\n",
        "        outlier.append(x)"
      ]
    },
    {
      "cell_type": "code",
      "execution_count": 18,
      "metadata": {
        "colab": {
          "base_uri": "https://localhost:8080/"
        },
        "id": "lEamMp0Jk1BN",
        "outputId": "bc72aa0c-5018-4a10-b345-5ae8666320ae"
      },
      "outputs": [
        {
          "output_type": "execute_result",
          "data": {
            "text/plain": [
              "[300.0,\n",
              " 302.0,\n",
              " 87.0,\n",
              " 90.0,\n",
              " 84.0,\n",
              " 500.0,\n",
              " 400.0,\n",
              " 87.0,\n",
              " 203.0,\n",
              " 160.0,\n",
              " 400.0,\n",
              " 87.0,\n",
              " 87.0,\n",
              " 191.0,\n",
              " 450.0,\n",
              " 390.0,\n",
              " 84.0,\n",
              " 87.0,\n",
              " 84.0,\n",
              " 155.0,\n",
              " 300.0,\n",
              " 87.0,\n",
              " 87.0,\n",
              " 84.0,\n",
              " 390.0,\n",
              " 87.0,\n",
              " 84.0,\n",
              " 600.0,\n",
              " 84.0,\n",
              " 84.0,\n",
              " 87.0,\n",
              " 84.0,\n",
              " 211.0,\n",
              " 600.0,\n",
              " 401.0,\n",
              " 89.0,\n",
              " 300.0,\n",
              " 390.0]"
            ]
          },
          "metadata": {},
          "execution_count": 18
        }
      ],
      "source": [
        "outlier"
      ]
    },
    {
      "cell_type": "code",
      "execution_count": 19,
      "metadata": {
        "colab": {
          "base_uri": "https://localhost:8080/"
        },
        "id": "0p5fA0FLk1BN",
        "outputId": "f350685d-2190-4358-c9ed-906c0fe6d986"
      },
      "outputs": [
        {
          "output_type": "execute_result",
          "data": {
            "text/plain": [
              "Int64Index([  3008,  41048,  43016,  52650,  60136,  66169,  85047,  93226,\n",
              "            111850, 119574, 127240, 145846, 168426, 171643, 174039, 174487,\n",
              "            186893, 209780, 218988, 224733, 232518, 242302, 245321, 259034,\n",
              "            264849, 266215, 275520, 290165, 295943, 300452, 315506, 325628,\n",
              "            325631, 333669, 337790, 363934, 384352, 393820],\n",
              "           dtype='int64')"
            ]
          },
          "metadata": {},
          "execution_count": 19
        }
      ],
      "source": [
        "ind1 = data['AGE']>upr_limit\n",
        "data.loc[ind1].index"
      ]
    },
    {
      "cell_type": "code",
      "execution_count": 20,
      "metadata": {
        "id": "hKwlMMeVhiEY"
      },
      "outputs": [],
      "source": [
        "# No lower outliers"
      ]
    },
    {
      "cell_type": "code",
      "execution_count": 21,
      "metadata": {
        "id": "la6uJ4Vnk1BN"
      },
      "outputs": [],
      "source": [
        "# Drop rows with 'AGE' values above 100\n",
        "data = data[data['AGE'] <= 100]\n",
        "\n",
        "# Now, 'data' will contain only rows where 'AGE' is 100 or below\n"
      ]
    },
    {
      "cell_type": "code",
      "source": [
        "pd.set_option('display.max_rows', None)"
      ],
      "metadata": {
        "id": "lO2Ciqg4CUx8"
      },
      "execution_count": 22,
      "outputs": []
    },
    {
      "cell_type": "code",
      "execution_count": 23,
      "metadata": {
        "colab": {
          "base_uri": "https://localhost:8080/"
        },
        "id": "SNWDnINNk1BO",
        "outputId": "ce5b5ad3-1092-4409-e662-474e43fd76f0"
      },
      "outputs": [
        {
          "output_type": "execute_result",
          "data": {
            "text/plain": [
              "55.0    15493\n",
              "37.0    14307\n",
              "29.0    13671\n",
              "24.0    13640\n",
              "41.0    12945\n",
              "50.0    12599\n",
              "35.0    12514\n",
              "36.0    12488\n",
              "51.0    12453\n",
              "43.0    11496\n",
              "38.0    11408\n",
              "44.0    11237\n",
              "54.0    11165\n",
              "26.0    10481\n",
              "28.0    10399\n",
              "40.0    10079\n",
              "52.0    10058\n",
              "47.0     9304\n",
              "56.0     9300\n",
              "48.0     9289\n",
              "33.0     8939\n",
              "23.0     8486\n",
              "45.0     8192\n",
              "25.0     8165\n",
              "53.0     7972\n",
              "27.0     7567\n",
              "31.0     7322\n",
              "39.0     7130\n",
              "22.0     7101\n",
              "49.0     7100\n",
              "32.0     6985\n",
              "34.0     6872\n",
              "46.0     6736\n",
              "42.0     6648\n",
              "60.0     6276\n",
              "30.0     5977\n",
              "62.0     5224\n",
              "58.0     5020\n",
              "65.0     4989\n",
              "57.0     4175\n",
              "64.0     4032\n",
              "61.0     3308\n",
              "63.0     2696\n",
              "20.0     2683\n",
              "18.0     2459\n",
              "21.0     2282\n",
              "59.0     2128\n",
              "70.0     1945\n",
              "66.0     1128\n",
              "69.0     1056\n",
              "71.0     1017\n",
              "17.0      986\n",
              "15.0      516\n",
              "19.0      272\n",
              "67.0      218\n",
              "72.0       96\n",
              "75.0       48\n",
              "68.0       48\n",
              "73.0       32\n",
              "87.0        9\n",
              "74.0        8\n",
              "14.0        8\n",
              "84.0        8\n",
              "90.0        1\n",
              "80.0        1\n",
              "77.0        1\n",
              "89.0        1\n",
              "Name: AGE, dtype: int64"
            ]
          },
          "metadata": {},
          "execution_count": 23
        }
      ],
      "source": [
        "data['AGE'].value_counts()"
      ]
    },
    {
      "cell_type": "code",
      "execution_count": 24,
      "metadata": {
        "colab": {
          "base_uri": "https://localhost:8080/"
        },
        "id": "gl_1fr_pk1BO",
        "outputId": "aaaaedef-1cfc-43f9-ec17-c41bd46b121c"
      },
      "outputs": [
        {
          "output_type": "execute_result",
          "data": {
            "text/plain": [
              "(398189, 5)"
            ]
          },
          "metadata": {},
          "execution_count": 24
        }
      ],
      "source": [
        "data.shape"
      ]
    },
    {
      "cell_type": "markdown",
      "metadata": {
        "id": "y1PsGPR9k1BP"
      },
      "source": [
        "# Encoding"
      ]
    },
    {
      "cell_type": "code",
      "execution_count": 25,
      "metadata": {
        "id": "ClZV4X9qk1BP"
      },
      "outputs": [],
      "source": [
        "# As the dataset is large, I am considering Label encoding"
      ]
    },
    {
      "cell_type": "code",
      "execution_count": 26,
      "metadata": {
        "id": "vESVB2Pfk1BQ"
      },
      "outputs": [],
      "source": [
        "label_columns = ['GENDER','RACE','DRUG NAME','SIDE EFFECTS']"
      ]
    },
    {
      "cell_type": "markdown",
      "metadata": {
        "id": "5_uzAHTEhz6o"
      },
      "source": [
        "Label Encoding"
      ]
    },
    {
      "cell_type": "code",
      "execution_count": 27,
      "metadata": {
        "colab": {
          "base_uri": "https://localhost:8080/"
        },
        "id": "ek93zEnXk1BQ",
        "outputId": "fc44af5a-48bd-4f54-a117-926a6830c8a2"
      },
      "outputs": [
        {
          "output_type": "stream",
          "name": "stderr",
          "text": [
            "<ipython-input-27-a4480c16519a>:4: SettingWithCopyWarning: \n",
            "A value is trying to be set on a copy of a slice from a DataFrame.\n",
            "Try using .loc[row_indexer,col_indexer] = value instead\n",
            "\n",
            "See the caveats in the documentation: https://pandas.pydata.org/pandas-docs/stable/user_guide/indexing.html#returning-a-view-versus-a-copy\n",
            "  data[column] = le.fit_transform(data[column])\n",
            "<ipython-input-27-a4480c16519a>:4: SettingWithCopyWarning: \n",
            "A value is trying to be set on a copy of a slice from a DataFrame.\n",
            "Try using .loc[row_indexer,col_indexer] = value instead\n",
            "\n",
            "See the caveats in the documentation: https://pandas.pydata.org/pandas-docs/stable/user_guide/indexing.html#returning-a-view-versus-a-copy\n",
            "  data[column] = le.fit_transform(data[column])\n",
            "<ipython-input-27-a4480c16519a>:4: SettingWithCopyWarning: \n",
            "A value is trying to be set on a copy of a slice from a DataFrame.\n",
            "Try using .loc[row_indexer,col_indexer] = value instead\n",
            "\n",
            "See the caveats in the documentation: https://pandas.pydata.org/pandas-docs/stable/user_guide/indexing.html#returning-a-view-versus-a-copy\n",
            "  data[column] = le.fit_transform(data[column])\n",
            "<ipython-input-27-a4480c16519a>:4: SettingWithCopyWarning: \n",
            "A value is trying to be set on a copy of a slice from a DataFrame.\n",
            "Try using .loc[row_indexer,col_indexer] = value instead\n",
            "\n",
            "See the caveats in the documentation: https://pandas.pydata.org/pandas-docs/stable/user_guide/indexing.html#returning-a-view-versus-a-copy\n",
            "  data[column] = le.fit_transform(data[column])\n"
          ]
        }
      ],
      "source": [
        "from sklearn.preprocessing import LabelEncoder\n",
        "le = LabelEncoder()\n",
        "for column in label_columns:\n",
        "    data[column] = le.fit_transform(data[column])"
      ]
    },
    {
      "cell_type": "markdown",
      "metadata": {
        "id": "fWc60LWxk1BR"
      },
      "source": [
        "# Correlation"
      ]
    },
    {
      "cell_type": "code",
      "execution_count": 28,
      "metadata": {
        "colab": {
          "base_uri": "https://localhost:8080/",
          "height": 847
        },
        "id": "CAzDMcwck1BR",
        "outputId": "d833817c-653f-4906-efbc-a4caa3812569"
      },
      "outputs": [
        {
          "output_type": "execute_result",
          "data": {
            "text/plain": [
              "<function matplotlib.pyplot.show(close=None, block=None)>"
            ]
          },
          "metadata": {},
          "execution_count": 28
        },
        {
          "output_type": "display_data",
          "data": {
            "text/plain": [
              "<Figure size 1000x1000 with 2 Axes>"
            ],
            "image/png": "[encoded data removed]"
          },
          "metadata": {}
        }
      ],
      "source": [
        "plt.figure(figsize=(10,10))\n",
        "corr_matrix=data.corr()\n",
        "sns.heatmap(corr_matrix,vmin=-0.2,vmax=0.9,annot=True,cmap='YlGnBu')\n",
        "plt.show"
      ]
    },
    {
      "cell_type": "code",
      "execution_count": 29,
      "metadata": {
        "id": "nkXmYwHGk1BR"
      },
      "outputs": [],
      "source": [
        "# No correlation between any features. So I am not dropping anything."
      ]
    },
    {
      "cell_type": "markdown",
      "metadata": {
        "id": "cAIBlw9Pk1BR"
      },
      "source": [
        "# Scaling"
      ]
    },
    {
      "cell_type": "code",
      "execution_count": 30,
      "metadata": {
        "id": "3KVrhF1uk1BR"
      },
      "outputs": [],
      "source": [
        "# I am not doing scaling because scaling has to be done on continuous numerical columns. But in my dataset all are discrete."
      ]
    },
    {
      "cell_type": "markdown",
      "metadata": {
        "id": "VZAii6iuk1BS"
      },
      "source": [
        "# Train Test Splitting"
      ]
    },
    {
      "cell_type": "code",
      "execution_count": 31,
      "metadata": {
        "id": "I4d1w8hRk1BS"
      },
      "outputs": [],
      "source": [
        "X=data.drop('SIDE EFFECTS',axis=1)\n",
        "y=data['SIDE EFFECTS']"
      ]
    },
    {
      "cell_type": "code",
      "execution_count": 32,
      "metadata": {
        "id": "7U9aFkR2k1BS"
      },
      "outputs": [],
      "source": [
        "from sklearn.model_selection import train_test_split\n",
        "X_train,X_test,y_train,y_test=train_test_split(X,y,test_size=0.25,random_state=42)"
      ]
    },
    {
      "cell_type": "code",
      "execution_count": 33,
      "metadata": {
        "colab": {
          "base_uri": "https://localhost:8080/"
        },
        "id": "rSnarttyk1BS",
        "outputId": "d808662c-dda9-49f6-9bb8-039e9fdb757c"
      },
      "outputs": [
        {
          "output_type": "stream",
          "name": "stdout",
          "text": [
            "X_train dataset:  (298641, 4)\n",
            "y_train dataset:  (298641,)\n",
            "X_test dataset:  (99548, 4)\n",
            "y_test dataset:  (99548,)\n"
          ]
        }
      ],
      "source": [
        "print(\"X_train dataset: \", X_train.shape)\n",
        "print(\"y_train dataset: \", y_train.shape)\n",
        "print(\"X_test dataset: \", X_test.shape)\n",
        "print(\"y_test dataset: \", y_test.shape)"
      ]
    },
    {
      "cell_type": "markdown",
      "metadata": {
        "id": "rJSe0Ek5k1BS"
      },
      "source": [
        "# Model Selection Based on Metrics"
      ]
    },
    {
      "cell_type": "code",
      "execution_count": 34,
      "metadata": {
        "id": "WP8gNhPsk1BS"
      },
      "outputs": [],
      "source": [
        "# I am Considering models which are not effected by the magnitude difference in each features."
      ]
    },
    {
      "cell_type": "code",
      "execution_count": 35,
      "metadata": {
        "id": "QJhD8Bj4k1BT"
      },
      "outputs": [],
      "source": [
        "# DECISION TREE"
      ]
    },
    {
      "cell_type": "code",
      "execution_count": 36,
      "metadata": {
        "colab": {
          "base_uri": "https://localhost:8080/"
        },
        "id": "4yDhnn_Ik1BT",
        "outputId": "1c33e908-c6a1-42f0-86fe-fdab8f3334c2"
      },
      "outputs": [
        {
          "output_type": "execute_result",
          "data": {
            "text/plain": [
              "1    132665\n",
              "3    115245\n",
              "2     74162\n",
              "4     53187\n",
              "0     22930\n",
              "Name: SIDE EFFECTS, dtype: int64"
            ]
          },
          "metadata": {},
          "execution_count": 36
        }
      ],
      "source": [
        "data['SIDE EFFECTS'].value_counts()# multiclass classification"
      ]
    },
    {
      "cell_type": "code",
      "execution_count": 37,
      "metadata": {
        "colab": {
          "base_uri": "https://localhost:8080/"
        },
        "id": "FyOzA_dIk1BT",
        "outputId": "67b019f1-8731-4810-d6dc-a3cd356363b5"
      },
      "outputs": [
        {
          "output_type": "execute_result",
          "data": {
            "text/plain": [
              "1    0.333171\n",
              "3    0.289423\n",
              "2    0.186248\n",
              "4    0.133572\n",
              "0    0.057586\n",
              "Name: SIDE EFFECTS, dtype: float64"
            ]
          },
          "metadata": {},
          "execution_count": 37
        }
      ],
      "source": [
        "data['SIDE EFFECTS'].value_counts(normalize=True)"
      ]
    },
    {
      "cell_type": "code",
      "execution_count": 38,
      "metadata": {
        "id": "QR7oIPTak1BU"
      },
      "outputs": [],
      "source": [
        "# It is an imbalanced dataset, so I am considering other metrics rather than accuracy"
      ]
    },
    {
      "cell_type": "code",
      "execution_count": 39,
      "metadata": {
        "colab": {
          "base_uri": "https://localhost:8080/",
          "height": 74
        },
        "id": "vjy2U_RWk1BV",
        "outputId": "0544bffe-33a6-4059-ba78-73050fb0d62b"
      },
      "outputs": [
        {
          "output_type": "execute_result",
          "data": {
            "text/plain": [
              "DecisionTreeClassifier()"
            ],
            "text/html": [
              "<style>#sk-container-id-1 {color: black;background-color: white;}#sk-container-id-1 pre{padding: 0;}#sk-container-id-1 div.sk-toggleable {background-color: white;}#sk-container-id-1 label.sk-toggleable__label {cursor: pointer;display: block;width: 100%;margin-bottom: 0;padding: 0.3em;box-sizing: border-box;text-align: center;}#sk-container-id-1 label.sk-toggleable__label-arrow:before {content: \"▸\";float: left;margin-right: 0.25em;color: #696969;}#sk-container-id-1 label.sk-toggleable__label-arrow:hover:before {color: black;}#sk-container-id-1 div.sk-estimator:hover label.sk-toggleable__label-arrow:before {color: black;}#sk-container-id-1 div.sk-toggleable__content {max-height: 0;max-width: 0;overflow: hidden;text-align: left;background-color: #f0f8ff;}#sk-container-id-1 div.sk-toggleable__content pre {margin: 0.2em;color: black;border-radius: 0.25em;background-color: #f0f8ff;}#sk-container-id-1 input.sk-toggleable__control:checked~div.sk-toggleable__content {max-height: 200px;max-width: 100%;overflow: auto;}#sk-container-id-1 input.sk-toggleable__control:checked~label.sk-toggleable__label-arrow:before {content: \"▾\";}#sk-container-id-1 div.sk-estimator input.sk-toggleable__control:checked~label.sk-toggleable__label {background-color: #d4ebff;}#sk-container-id-1 div.sk-label input.sk-toggleable__control:checked~label.sk-toggleable__label {background-color: #d4ebff;}#sk-container-id-1 input.sk-hidden--visually {border: 0;clip: rect(1px 1px 1px 1px);clip: rect(1px, 1px, 1px, 1px);height: 1px;margin: -1px;overflow: hidden;padding: 0;position: absolute;width: 1px;}#sk-container-id-1 div.sk-estimator {font-family: monospace;background-color: #f0f8ff;border: 1px dotted black;border-radius: 0.25em;box-sizing: border-box;margin-bottom: 0.5em;}#sk-container-id-1 div.sk-estimator:hover {background-color: #d4ebff;}#sk-container-id-1 div.sk-parallel-item::after {content: \"\";width: 100%;border-bottom: 1px solid gray;flex-grow: 1;}#sk-container-id-1 div.sk-label:hover label.sk-toggleable__label {background-color: #d4ebff;}#sk-container-id-1 div.sk-serial::before {content: \"\";position: absolute;border-left: 1px solid gray;box-sizing: border-box;top: 0;bottom: 0;left: 50%;z-index: 0;}#sk-container-id-1 div.sk-serial {display: flex;flex-direction: column;align-items: center;background-color: white;padding-right: 0.2em;padding-left: 0.2em;position: relative;}#sk-container-id-1 div.sk-item {position: relative;z-index: 1;}#sk-container-id-1 div.sk-parallel {display: flex;align-items: stretch;justify-content: center;background-color: white;position: relative;}#sk-container-id-1 div.sk-item::before, #sk-container-id-1 div.sk-parallel-item::before {content: \"\";position: absolute;border-left: 1px solid gray;box-sizing: border-box;top: 0;bottom: 0;left: 50%;z-index: -1;}#sk-container-id-1 div.sk-parallel-item {display: flex;flex-direction: column;z-index: 1;position: relative;background-color: white;}#sk-container-id-1 div.sk-parallel-item:first-child::after {align-self: flex-end;width: 50%;}#sk-container-id-1 div.sk-parallel-item:last-child::after {align-self: flex-start;width: 50%;}#sk-container-id-1 div.sk-parallel-item:only-child::after {width: 0;}#sk-container-id-1 div.sk-dashed-wrapped {border: 1px dashed gray;margin: 0 0.4em 0.5em 0.4em;box-sizing: border-box;padding-bottom: 0.4em;background-color: white;}#sk-container-id-1 div.sk-label label {font-family: monospace;font-weight: bold;display: inline-block;line-height: 1.2em;}#sk-container-id-1 div.sk-label-container {text-align: center;}#sk-container-id-1 div.sk-container {/* jupyter's `normalize.less` sets `[hidden] { display: none; }` but bootstrap.min.css set `[hidden] { display: none !important; }` so we also need the `!important` here to be able to override the default hidden behavior on the sphinx rendered scikit-learn.org. See: https://github.com/scikit-learn/scikit-learn/issues/21755 */display: inline-block !important;position: relative;}#sk-container-id-1 div.sk-text-repr-fallback {display: none;}</style><div id=\"sk-container-id-1\" class=\"sk-top-container\"><div class=\"sk-text-repr-fallback\"><pre>DecisionTreeClassifier()</pre><b>In a Jupyter environment, please rerun this cell to show the HTML representation or trust the notebook. <br />On GitHub, the HTML representation is unable to render, please try loading this page with nbviewer.org.</b></div><div class=\"sk-container\" hidden><div class=\"sk-item\"><div class=\"sk-estimator sk-toggleable\"><input class=\"sk-toggleable__control sk-hidden--visually\" id=\"sk-estimator-id-1\" type=\"checkbox\" checked><label for=\"sk-estimator-id-1\" class=\"sk-toggleable__label sk-toggleable__label-arrow\">DecisionTreeClassifier</label><div class=\"sk-toggleable__content\"><pre>DecisionTreeClassifier()</pre></div></div></div></div></div>"
            ]
          },
          "metadata": {},
          "execution_count": 39
        }
      ],
      "source": [
        "from sklearn.tree import DecisionTreeClassifier\n",
        "dt_clf=DecisionTreeClassifier()\n",
        "dt_clf.fit(X_train,y_train)"
      ]
    },
    {
      "cell_type": "code",
      "execution_count": 40,
      "metadata": {
        "id": "1AEl9zWSk1BV"
      },
      "outputs": [],
      "source": [
        "y_pred=dt_clf.predict(X_test)"
      ]
    },
    {
      "cell_type": "code",
      "execution_count": 41,
      "metadata": {
        "colab": {
          "base_uri": "https://localhost:8080/"
        },
        "id": "1zD6_uWjk1BV",
        "outputId": "8b4dca4c-8fcd-4315-d5bc-f918d94a9bf1"
      },
      "outputs": [
        {
          "output_type": "stream",
          "name": "stdout",
          "text": [
            "Accuracy =  0.9863985213163499\n",
            "Precision =  0.9864405884238486\n",
            "Recall =  0.9863985213163499\n",
            "F1 Score =  0.9863622857744598\n"
          ]
        }
      ],
      "source": [
        "from sklearn.metrics import accuracy_score, confusion_matrix,precision_score,recall_score,f1_score\n",
        "print('Accuracy = ',accuracy_score(y_test,y_pred))\n",
        "print('Precision = ',precision_score(y_test,y_pred,average='weighted'))\n",
        "print('Recall = ',recall_score(y_test,y_pred,average='weighted'))\n",
        "print('F1 Score = ',f1_score(y_test,y_pred,average='weighted'))"
      ]
    },
    {
      "cell_type": "code",
      "execution_count": 42,
      "metadata": {
        "id": "4qQYg2ugk1BW"
      },
      "outputs": [],
      "source": [
        "# Random Forest"
      ]
    },
    {
      "cell_type": "code",
      "execution_count": 43,
      "metadata": {
        "id": "XolRFXJdk1BW",
        "colab": {
          "base_uri": "https://localhost:8080/",
          "height": 74
        },
        "outputId": "c4faaef7-51c9-41f0-8175-7763a794c8c1"
      },
      "outputs": [
        {
          "output_type": "execute_result",
          "data": {
            "text/plain": [
              "RandomForestClassifier()"
            ],
            "text/html": [
              "<style>#sk-container-id-2 {color: black;background-color: white;}#sk-container-id-2 pre{padding: 0;}#sk-container-id-2 div.sk-toggleable {background-color: white;}#sk-container-id-2 label.sk-toggleable__label {cursor: pointer;display: block;width: 100%;margin-bottom: 0;padding: 0.3em;box-sizing: border-box;text-align: center;}#sk-container-id-2 label.sk-toggleable__label-arrow:before {content: \"▸\";float: left;margin-right: 0.25em;color: #696969;}#sk-container-id-2 label.sk-toggleable__label-arrow:hover:before {color: black;}#sk-container-id-2 div.sk-estimator:hover label.sk-toggleable__label-arrow:before {color: black;}#sk-container-id-2 div.sk-toggleable__content {max-height: 0;max-width: 0;overflow: hidden;text-align: left;background-color: #f0f8ff;}#sk-container-id-2 div.sk-toggleable__content pre {margin: 0.2em;color: black;border-radius: 0.25em;background-color: #f0f8ff;}#sk-container-id-2 input.sk-toggleable__control:checked~div.sk-toggleable__content {max-height: 200px;max-width: 100%;overflow: auto;}#sk-container-id-2 input.sk-toggleable__control:checked~label.sk-toggleable__label-arrow:before {content: \"▾\";}#sk-container-id-2 div.sk-estimator input.sk-toggleable__control:checked~label.sk-toggleable__label {background-color: #d4ebff;}#sk-container-id-2 div.sk-label input.sk-toggleable__control:checked~label.sk-toggleable__label {background-color: #d4ebff;}#sk-container-id-2 input.sk-hidden--visually {border: 0;clip: rect(1px 1px 1px 1px);clip: rect(1px, 1px, 1px, 1px);height: 1px;margin: -1px;overflow: hidden;padding: 0;position: absolute;width: 1px;}#sk-container-id-2 div.sk-estimator {font-family: monospace;background-color: #f0f8ff;border: 1px dotted black;border-radius: 0.25em;box-sizing: border-box;margin-bottom: 0.5em;}#sk-container-id-2 div.sk-estimator:hover {background-color: #d4ebff;}#sk-container-id-2 div.sk-parallel-item::after {content: \"\";width: 100%;border-bottom: 1px solid gray;flex-grow: 1;}#sk-container-id-2 div.sk-label:hover label.sk-toggleable__label {background-color: #d4ebff;}#sk-container-id-2 div.sk-serial::before {content: \"\";position: absolute;border-left: 1px solid gray;box-sizing: border-box;top: 0;bottom: 0;left: 50%;z-index: 0;}#sk-container-id-2 div.sk-serial {display: flex;flex-direction: column;align-items: center;background-color: white;padding-right: 0.2em;padding-left: 0.2em;position: relative;}#sk-container-id-2 div.sk-item {position: relative;z-index: 1;}#sk-container-id-2 div.sk-parallel {display: flex;align-items: stretch;justify-content: center;background-color: white;position: relative;}#sk-container-id-2 div.sk-item::before, #sk-container-id-2 div.sk-parallel-item::before {content: \"\";position: absolute;border-left: 1px solid gray;box-sizing: border-box;top: 0;bottom: 0;left: 50%;z-index: -1;}#sk-container-id-2 div.sk-parallel-item {display: flex;flex-direction: column;z-index: 1;position: relative;background-color: white;}#sk-container-id-2 div.sk-parallel-item:first-child::after {align-self: flex-end;width: 50%;}#sk-container-id-2 div.sk-parallel-item:last-child::after {align-self: flex-start;width: 50%;}#sk-container-id-2 div.sk-parallel-item:only-child::after {width: 0;}#sk-container-id-2 div.sk-dashed-wrapped {border: 1px dashed gray;margin: 0 0.4em 0.5em 0.4em;box-sizing: border-box;padding-bottom: 0.4em;background-color: white;}#sk-container-id-2 div.sk-label label {font-family: monospace;font-weight: bold;display: inline-block;line-height: 1.2em;}#sk-container-id-2 div.sk-label-container {text-align: center;}#sk-container-id-2 div.sk-container {/* jupyter's `normalize.less` sets `[hidden] { display: none; }` but bootstrap.min.css set `[hidden] { display: none !important; }` so we also need the `!important` here to be able to override the default hidden behavior on the sphinx rendered scikit-learn.org. See: https://github.com/scikit-learn/scikit-learn/issues/21755 */display: inline-block !important;position: relative;}#sk-container-id-2 div.sk-text-repr-fallback {display: none;}</style><div id=\"sk-container-id-2\" class=\"sk-top-container\"><div class=\"sk-text-repr-fallback\"><pre>RandomForestClassifier()</pre><b>In a Jupyter environment, please rerun this cell to show the HTML representation or trust the notebook. <br />On GitHub, the HTML representation is unable to render, please try loading this page with nbviewer.org.</b></div><div class=\"sk-container\" hidden><div class=\"sk-item\"><div class=\"sk-estimator sk-toggleable\"><input class=\"sk-toggleable__control sk-hidden--visually\" id=\"sk-estimator-id-2\" type=\"checkbox\" checked><label for=\"sk-estimator-id-2\" class=\"sk-toggleable__label sk-toggleable__label-arrow\">RandomForestClassifier</label><div class=\"sk-toggleable__content\"><pre>RandomForestClassifier()</pre></div></div></div></div></div>"
            ]
          },
          "metadata": {},
          "execution_count": 43
        }
      ],
      "source": [
        "from sklearn.ensemble import RandomForestClassifier\n",
        "rf_clf=RandomForestClassifier()\n",
        "rf_clf.fit(X_train,y_train)"
      ]
    },
    {
      "cell_type": "code",
      "execution_count": 44,
      "metadata": {
        "id": "-vsCkPEQk1BW"
      },
      "outputs": [],
      "source": [
        "y_pred=rf_clf.predict(X_test)"
      ]
    },
    {
      "cell_type": "code",
      "execution_count": 45,
      "metadata": {
        "id": "BohBEUhHk1BX",
        "colab": {
          "base_uri": "https://localhost:8080/"
        },
        "outputId": "e7dc62ef-a38a-4585-f2f8-ed420096899c"
      },
      "outputs": [
        {
          "output_type": "stream",
          "name": "stdout",
          "text": [
            "Accuracy =  0.9858862056495359\n",
            "Precision =  0.985906308498605\n",
            "Recall =  0.9858862056495359\n",
            "F1 Score =  0.9858656730662261\n"
          ]
        }
      ],
      "source": [
        "print('Accuracy = ',accuracy_score(y_test,y_pred))\n",
        "print('Precision = ',precision_score(y_test,y_pred,average='weighted'))\n",
        "print('Recall = ',recall_score(y_test,y_pred,average='weighted'))\n",
        "print('F1 Score = ',f1_score(y_test,y_pred,average='weighted'))"
      ]
    },
    {
      "cell_type": "code",
      "execution_count": 46,
      "metadata": {
        "id": "Mtw5JrHek1BY"
      },
      "outputs": [],
      "source": [
        "# GBM"
      ]
    },
    {
      "cell_type": "code",
      "execution_count": 47,
      "metadata": {
        "id": "RDg1zhM4k1BZ"
      },
      "outputs": [],
      "source": [
        "from sklearn.ensemble import GradientBoostingClassifier\n",
        "\n",
        "\n",
        "# Initialize the Gradient Boosting classifier\n",
        "gbm_clf = GradientBoostingClassifier(n_estimators=100, learning_rate=0.1, random_state=42)\n",
        "\n",
        "# Train the classifier\n",
        "gbm_clf.fit(X_train, y_train)\n",
        "\n",
        "# Make predictions on the test data\n",
        "y_pred = gbm_clf.predict(X_test)"
      ]
    },
    {
      "cell_type": "code",
      "execution_count": 48,
      "metadata": {
        "id": "mtg83FTgk1BZ",
        "colab": {
          "base_uri": "https://localhost:8080/"
        },
        "outputId": "0190c105-5e47-400b-f2e1-2a4c78c877ed"
      },
      "outputs": [
        {
          "output_type": "stream",
          "name": "stdout",
          "text": [
            "Accuracy =  0.80629445091815\n",
            "Precision =  0.8162833796216451\n",
            "Recall =  0.80629445091815\n",
            "F1 Score =  0.8052327338130272\n"
          ]
        }
      ],
      "source": [
        "print('Accuracy = ',accuracy_score(y_test,y_pred))\n",
        "print('Precision = ',precision_score(y_test,y_pred,average='weighted'))\n",
        "print('Recall = ',recall_score(y_test,y_pred,average='weighted'))\n",
        "print('F1 Score = ',f1_score(y_test,y_pred,average='weighted'))"
      ]
    },
    {
      "cell_type": "code",
      "execution_count": 49,
      "metadata": {
        "id": "X1ceJOITk1BZ"
      },
      "outputs": [],
      "source": [
        "# Naive Bayes"
      ]
    },
    {
      "cell_type": "code",
      "execution_count": 50,
      "metadata": {
        "id": "Ifj69I6x7dfA"
      },
      "outputs": [],
      "source": [
        "from sklearn.naive_bayes import GaussianNB\n",
        "\n",
        "# Create a Gaussian Naive Bayes classifier\n",
        "nb_clf = GaussianNB()\n",
        "\n",
        "# Fit the Naive Bayes classifier to the training data\n",
        "nb_clf.fit(X_train, y_train)\n",
        "\n",
        "# Predict using the Naive Bayes classifier\n",
        "y_pred = nb_clf.predict(X_test)"
      ]
    },
    {
      "cell_type": "code",
      "execution_count": 51,
      "metadata": {
        "id": "w40_XWTu7sky",
        "colab": {
          "base_uri": "https://localhost:8080/"
        },
        "outputId": "76719452-f516-4c45-b902-16ab525dd85b"
      },
      "outputs": [
        {
          "output_type": "stream",
          "name": "stdout",
          "text": [
            "Accuracy =  0.34171454976493754\n",
            "Precision =  0.26595736489947286\n",
            "Recall =  0.34171454976493754\n",
            "F1 Score =  0.2821504728244714\n"
          ]
        },
        {
          "output_type": "stream",
          "name": "stderr",
          "text": [
            "/usr/local/lib/python3.10/dist-packages/sklearn/metrics/_classification.py:1344: UndefinedMetricWarning: Precision is ill-defined and being set to 0.0 in labels with no predicted samples. Use `zero_division` parameter to control this behavior.\n",
            "  _warn_prf(average, modifier, msg_start, len(result))\n"
          ]
        }
      ],
      "source": [
        "print('Accuracy = ',accuracy_score(y_test,y_pred))\n",
        "print('Precision = ',precision_score(y_test,y_pred,average='weighted'))\n",
        "print('Recall = ',recall_score(y_test,y_pred,average='weighted'))\n",
        "print('F1 Score = ',f1_score(y_test,y_pred,average='weighted'))"
      ]
    },
    {
      "cell_type": "code",
      "execution_count": 52,
      "metadata": {
        "id": "GXFWteLpdxUT"
      },
      "outputs": [],
      "source": [
        "# Decision Tree is considerind as the best model because all the metrics(not considering accuracy as the dataset is an imbalanced one) are more in it."
      ]
    },
    {
      "cell_type": "markdown",
      "metadata": {
        "id": "6EIb781Wiuwg"
      },
      "source": [
        "**CROSS VALIDATION**"
      ]
    },
    {
      "cell_type": "code",
      "execution_count": 53,
      "metadata": {
        "id": "tpezhHKsea3g",
        "colab": {
          "base_uri": "https://localhost:8080/"
        },
        "outputId": "4ddccd3a-03b2-45e9-e1de-9c28d35a5a35"
      },
      "outputs": [
        {
          "output_type": "stream",
          "name": "stdout",
          "text": [
            "Mean Precision: 0.9863593616546146\n",
            "Mean Recall: 0.986323077582729\n",
            "Mean F1 Score: 0.9863195530972095\n"
          ]
        }
      ],
      "source": [
        "from sklearn.model_selection import StratifiedKFold\n",
        "# Initialize the StratifiedKFold object\n",
        "stratified_kfold = StratifiedKFold(n_splits=5, shuffle=True, random_state=42)\n",
        "\n",
        "# Lists to store precision, recall, and F1 scores for each fold\n",
        "precision_scores_dt = []\n",
        "recall_scores_dt = []\n",
        "f1_scores_dt = []\n",
        "\n",
        "# Perform cross-validation\n",
        "for train_index, test_index in stratified_kfold.split(X, y):\n",
        "    X_train_cv, X_test_cv = X.iloc[train_index], X.iloc[test_index]\n",
        "    y_train_cv, y_test_cv = y.iloc[train_index], y.iloc[test_index]\n",
        "\n",
        "    # Initialize the Decision Tree classifier\n",
        "    dt_classifier = DecisionTreeClassifier(random_state=42)\n",
        "\n",
        "    # Fit the classifier on the training data\n",
        "    dt_classifier.fit(X_train_cv, y_train_cv)\n",
        "\n",
        "    # Predict on the test data\n",
        "    y_pred_cv = dt_classifier.predict(X_test_cv)\n",
        "\n",
        "    # Calculate precision, recall, and F1 scores\n",
        "    precision = precision_score(y_test_cv, y_pred_cv,average='weighted')\n",
        "    recall = recall_score(y_test_cv, y_pred_cv,average='weighted')\n",
        "    f1 = f1_score(y_test_cv, y_pred_cv,average='weighted')\n",
        "\n",
        "    precision_scores_dt.append(precision)\n",
        "    recall_scores_dt.append(recall)\n",
        "    f1_scores_dt.append(f1)\n",
        "\n",
        "# Calculate and print the mean precision, recall, and F1 scores across all folds\n",
        "mean_precision = sum(precision_scores_dt) / len(precision_scores_dt)\n",
        "mean_recall = sum(recall_scores_dt) / len(recall_scores_dt)\n",
        "mean_f1 = sum(f1_scores_dt) / len(f1_scores_dt)\n",
        "\n",
        "print(\"Mean Precision:\", mean_precision)\n",
        "print(\"Mean Recall:\", mean_recall)\n",
        "print(\"Mean F1 Score:\", mean_f1)"
      ]
    },
    {
      "cell_type": "markdown",
      "metadata": {
        "id": "o_bNTJZHmByA"
      },
      "source": [
        "HYPERPARAMETER TUNING"
      ]
    },
    {
      "cell_type": "code",
      "execution_count": 54,
      "metadata": {
        "id": "fF0MS-_lohyR",
        "colab": {
          "base_uri": "https://localhost:8080/"
        },
        "outputId": "c7dd55eb-2c82-4447-f9cd-7989c8dc52c3"
      },
      "outputs": [
        {
          "output_type": "stream",
          "name": "stderr",
          "text": [
            "/usr/local/lib/python3.10/dist-packages/sklearn/tree/_classes.py:269: FutureWarning: `max_features='auto'` has been deprecated in 1.1 and will be removed in 1.3. To keep the past behaviour, explicitly set `max_features='sqrt'`.\n",
            "  warnings.warn(\n"
          ]
        },
        {
          "output_type": "stream",
          "name": "stdout",
          "text": [
            "Best Parameters for Decision Tree (F1 Weighted Score): {'splitter': 'best', 'random_state': None, 'min_samples_split': 2, 'min_samples_leaf': 2, 'max_features': 'auto', 'max_depth': 50, 'criterion': 'entropy'}\n"
          ]
        }
      ],
      "source": [
        "from sklearn.model_selection import RandomizedSearchCV\n",
        "\n",
        "# Define the hyperparameter grid for Decision Tree\n",
        "dt_params = {\n",
        "    'criterion': ['gini', 'entropy'],\n",
        "    'splitter': ['best', 'random'],\n",
        "    'max_depth': [None, 10, 20, 30, 40, 50],\n",
        "    'min_samples_split': [2, 5, 10],\n",
        "    'min_samples_leaf': [1, 2, 4],\n",
        "    'max_features': [None, 'sqrt', 'log2','auto'],\n",
        "    'random_state': [None, 42],\n",
        "}\n",
        "\n",
        "# Create a Decision Tree classifier\n",
        "dt_model = DecisionTreeClassifier()\n",
        "\n",
        "# Initialize RandomizedSearchCV\n",
        "cv_model_dt = RandomizedSearchCV(estimator=dt_model, param_distributions=dt_params,\n",
        "                                 scoring='f1_weighted', n_jobs=-1, return_train_score=True,\n",
        "                                 cv=StratifiedKFold(n_splits=5, shuffle=True, random_state=42))\n",
        "\n",
        "# Fit the randomized search to your training data\n",
        "cv_model_dt.fit(X_train_cv, y_train_cv)\n",
        "\n",
        "# Get the best hyperparameters for Decision Tree\n",
        "best_params_dt = cv_model_dt.best_params_\n",
        "\n",
        "# Print the best parameters\n",
        "print(\"Best Parameters for Decision Tree (F1 Weighted Score):\", best_params_dt)\n"
      ]
    },
    {
      "cell_type": "code",
      "execution_count": 55,
      "metadata": {
        "id": "aGfbwDBJp_OK",
        "colab": {
          "base_uri": "https://localhost:8080/"
        },
        "outputId": "b804b72f-2ada-4d91-ee33-fec70c24b165"
      },
      "outputs": [
        {
          "output_type": "stream",
          "name": "stdout",
          "text": [
            "Precision (Decision Tree): 0.9854430685612867\n",
            "Recall (Decision Tree): 0.9854087923954945\n",
            "F1 Score (Decision Tree): 0.9854125341554615\n"
          ]
        }
      ],
      "source": [
        "# Use the best hyperparameters obtained from RandomizedSearchCV\n",
        "best_params_dt = {\n",
        "    'splitter': 'random',\n",
        "    'random_state': None,\n",
        "    'min_samples_split': 10,\n",
        "    'min_samples_leaf': 1,\n",
        "    'max_features': None,\n",
        "    'max_depth': 50,\n",
        "    'criterion': 'entropy'\n",
        "}\n",
        "\n",
        "# Create a new Decision Tree classifier with the best hyperparameters\n",
        "best_dt_model = DecisionTreeClassifier(**best_params_dt)\n",
        "\n",
        "# Fit the model to your training data\n",
        "best_dt_model.fit(X_train_cv, y_train_cv)\n",
        "\n",
        "# Predict on the test data\n",
        "y_pred_dt = best_dt_model.predict(X_test_cv)\n",
        "\n",
        "# Calculate precision, recall, and F1-score\n",
        "precision_dt = precision_score(y_test_cv, y_pred_dt, average='weighted')\n",
        "recall_dt = recall_score(y_test_cv, y_pred_dt, average='weighted')\n",
        "f1_dt = f1_score(y_test_cv, y_pred_dt, average='weighted')\n",
        "\n",
        "# Print the evaluation metrics\n",
        "print(\"Precision (Decision Tree):\", precision_dt)\n",
        "print(\"Recall (Decision Tree):\", recall_dt)\n",
        "print(\"F1 Score (Decision Tree):\", f1_dt)\n"
      ]
    }
  ],
  "metadata": {
    "accelerator": "GPU",
    "colab": {
      "toc_visible": true,
      "provenance": []
    },
    "kernelspec": {
      "display_name": "Python 3 (ipykernel)",
      "language": "python",
      "name": "python3"
    },
    "language_info": {
      "codemirror_mode": {
        "name": "ipython",
        "version": 3
      },
      "file_extension": ".py",
      "mimetype": "text/x-python",
      "name": "python",
      "nbconvert_exporter": "python",
      "pygments_lexer": "ipython3",
      "version": "3.10.9"
    }
  },
  "nbformat": 4,
  "nbformat_minor": 0
}